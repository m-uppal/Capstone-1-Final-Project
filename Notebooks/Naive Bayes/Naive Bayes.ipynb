{
 "cells": [
  {
   "cell_type": "markdown",
   "metadata": {},
   "source": [
    "# Load Dataset"
   ]
  },
  {
   "cell_type": "code",
   "execution_count": 1,
   "metadata": {},
   "outputs": [],
   "source": [
    "# load dataset\n",
    "import pandas as pd\n",
    "breaches = pd.read_csv('preprocessed_df.csv')"
   ]
  },
  {
   "cell_type": "code",
   "execution_count": 2,
   "metadata": {},
   "outputs": [
    {
     "data": {
      "text/plain": [
       "(512, 33)"
      ]
     },
     "execution_count": 2,
     "metadata": {},
     "output_type": "execute_result"
    }
   ],
   "source": [
    "breaches.shape"
   ]
  },
  {
   "cell_type": "code",
   "execution_count": 3,
   "metadata": {},
   "outputs": [
    {
     "data": {
      "text/html": [
       "<div>\n",
       "<style scoped>\n",
       "    .dataframe tbody tr th:only-of-type {\n",
       "        vertical-align: middle;\n",
       "    }\n",
       "\n",
       "    .dataframe tbody tr th {\n",
       "        vertical-align: top;\n",
       "    }\n",
       "\n",
       "    .dataframe thead th {\n",
       "        text-align: right;\n",
       "    }\n",
       "</style>\n",
       "<table border=\"1\" class=\"dataframe\">\n",
       "  <thead>\n",
       "    <tr style=\"text-align: right;\">\n",
       "      <th></th>\n",
       "      <th>Name of Covered Entity</th>\n",
       "      <th>State</th>\n",
       "      <th>Covered Entity Type</th>\n",
       "      <th>Individuals Affected</th>\n",
       "      <th>Breach Submission Date</th>\n",
       "      <th>Type of Breach</th>\n",
       "      <th>Location of Breached Information</th>\n",
       "      <th>Business Associate Present</th>\n",
       "      <th>Web Description</th>\n",
       "      <th>Hacking/IT Incident</th>\n",
       "      <th>...</th>\n",
       "      <th>weekofyear</th>\n",
       "      <th>Desktop Computer</th>\n",
       "      <th>Electronic Medical Record</th>\n",
       "      <th>Email</th>\n",
       "      <th>Laptop</th>\n",
       "      <th>Network Server</th>\n",
       "      <th>Other Portable Electronic Device</th>\n",
       "      <th>Paper/Films</th>\n",
       "      <th>Yes</th>\n",
       "      <th>No</th>\n",
       "    </tr>\n",
       "  </thead>\n",
       "  <tbody>\n",
       "    <tr>\n",
       "      <td>0</td>\n",
       "      <td>Providence Health Plan</td>\n",
       "      <td>OR</td>\n",
       "      <td>Health Plan</td>\n",
       "      <td>651.0</td>\n",
       "      <td>2019-03-19</td>\n",
       "      <td>Theft</td>\n",
       "      <td>Laptop</td>\n",
       "      <td>Yes</td>\n",
       "      <td>An unencrypted laptop computer containing the ...</td>\n",
       "      <td>0.0</td>\n",
       "      <td>...</td>\n",
       "      <td>12.0</td>\n",
       "      <td>0</td>\n",
       "      <td>0</td>\n",
       "      <td>0</td>\n",
       "      <td>1</td>\n",
       "      <td>0</td>\n",
       "      <td>0</td>\n",
       "      <td>0</td>\n",
       "      <td>1</td>\n",
       "      <td>0</td>\n",
       "    </tr>\n",
       "    <tr>\n",
       "      <td>1</td>\n",
       "      <td>Lanier Family &amp; Cosmetic Dentistry, P.C.</td>\n",
       "      <td>GA</td>\n",
       "      <td>Healthcare Provider</td>\n",
       "      <td>1950.0</td>\n",
       "      <td>2019-01-29</td>\n",
       "      <td>Unauthorized Access/Disclosure</td>\n",
       "      <td>Email</td>\n",
       "      <td>No</td>\n",
       "      <td>On October 24, 2018, via a business associate ...</td>\n",
       "      <td>0.0</td>\n",
       "      <td>...</td>\n",
       "      <td>5.0</td>\n",
       "      <td>0</td>\n",
       "      <td>0</td>\n",
       "      <td>1</td>\n",
       "      <td>0</td>\n",
       "      <td>0</td>\n",
       "      <td>0</td>\n",
       "      <td>0</td>\n",
       "      <td>0</td>\n",
       "      <td>1</td>\n",
       "    </tr>\n",
       "    <tr>\n",
       "      <td>2</td>\n",
       "      <td>ABB Inc. Active Employee Group Benefit Plan</td>\n",
       "      <td>NC</td>\n",
       "      <td>Health Plan</td>\n",
       "      <td>6877.0</td>\n",
       "      <td>2019-01-18</td>\n",
       "      <td>Unauthorized Access/Disclosure</td>\n",
       "      <td>Paper/Films</td>\n",
       "      <td>Yes</td>\n",
       "      <td>The covered entity (CE), ABB Inc. Active Emplo...</td>\n",
       "      <td>0.0</td>\n",
       "      <td>...</td>\n",
       "      <td>3.0</td>\n",
       "      <td>0</td>\n",
       "      <td>0</td>\n",
       "      <td>0</td>\n",
       "      <td>0</td>\n",
       "      <td>0</td>\n",
       "      <td>0</td>\n",
       "      <td>1</td>\n",
       "      <td>1</td>\n",
       "      <td>0</td>\n",
       "    </tr>\n",
       "    <tr>\n",
       "      <td>3</td>\n",
       "      <td>Lebanon VA Medical Center</td>\n",
       "      <td>PA</td>\n",
       "      <td>Healthcare Provider</td>\n",
       "      <td>1002.0</td>\n",
       "      <td>2019-01-16</td>\n",
       "      <td>Unauthorized Access/Disclosure</td>\n",
       "      <td>Email</td>\n",
       "      <td>No</td>\n",
       "      <td>An employee of the covered entity (CE) inadver...</td>\n",
       "      <td>0.0</td>\n",
       "      <td>...</td>\n",
       "      <td>3.0</td>\n",
       "      <td>0</td>\n",
       "      <td>0</td>\n",
       "      <td>1</td>\n",
       "      <td>0</td>\n",
       "      <td>0</td>\n",
       "      <td>0</td>\n",
       "      <td>0</td>\n",
       "      <td>0</td>\n",
       "      <td>1</td>\n",
       "    </tr>\n",
       "    <tr>\n",
       "      <td>4</td>\n",
       "      <td>Humana Inc</td>\n",
       "      <td>KY</td>\n",
       "      <td>Health Plan</td>\n",
       "      <td>684.0</td>\n",
       "      <td>2018-12-31</td>\n",
       "      <td>Theft</td>\n",
       "      <td>Paper/Films</td>\n",
       "      <td>No</td>\n",
       "      <td>On July 3, 2018, the covered entity’s (CE) sal...</td>\n",
       "      <td>0.0</td>\n",
       "      <td>...</td>\n",
       "      <td>1.0</td>\n",
       "      <td>0</td>\n",
       "      <td>0</td>\n",
       "      <td>0</td>\n",
       "      <td>0</td>\n",
       "      <td>0</td>\n",
       "      <td>0</td>\n",
       "      <td>1</td>\n",
       "      <td>0</td>\n",
       "      <td>1</td>\n",
       "    </tr>\n",
       "  </tbody>\n",
       "</table>\n",
       "<p>5 rows × 33 columns</p>\n",
       "</div>"
      ],
      "text/plain": [
       "                        Name of Covered Entity State  Covered Entity Type  \\\n",
       "0                      Providence Health Plan     OR          Health Plan   \n",
       "1     Lanier Family & Cosmetic Dentistry, P.C.    GA  Healthcare Provider   \n",
       "2  ABB Inc. Active Employee Group Benefit Plan    NC          Health Plan   \n",
       "3                    Lebanon VA Medical Center    PA  Healthcare Provider   \n",
       "4                                  Humana Inc     KY          Health Plan   \n",
       "\n",
       "   Individuals Affected Breach Submission Date  \\\n",
       "0                 651.0             2019-03-19   \n",
       "1                1950.0             2019-01-29   \n",
       "2                6877.0             2019-01-18   \n",
       "3                1002.0             2019-01-16   \n",
       "4                 684.0             2018-12-31   \n",
       "\n",
       "                   Type of Breach Location of Breached Information  \\\n",
       "0                           Theft                           Laptop   \n",
       "1  Unauthorized Access/Disclosure                            Email   \n",
       "2  Unauthorized Access/Disclosure                      Paper/Films   \n",
       "3  Unauthorized Access/Disclosure                            Email   \n",
       "4                           Theft                      Paper/Films   \n",
       "\n",
       "  Business Associate Present  \\\n",
       "0                        Yes   \n",
       "1                         No   \n",
       "2                        Yes   \n",
       "3                         No   \n",
       "4                         No   \n",
       "\n",
       "                                     Web Description  Hacking/IT Incident  \\\n",
       "0  An unencrypted laptop computer containing the ...                  0.0   \n",
       "1  On October 24, 2018, via a business associate ...                  0.0   \n",
       "2  The covered entity (CE), ABB Inc. Active Emplo...                  0.0   \n",
       "3  An employee of the covered entity (CE) inadver...                  0.0   \n",
       "4  On July 3, 2018, the covered entity’s (CE) sal...                  0.0   \n",
       "\n",
       "   ...  weekofyear  Desktop Computer  Electronic Medical Record  Email  \\\n",
       "0  ...        12.0                 0                          0      0   \n",
       "1  ...         5.0                 0                          0      1   \n",
       "2  ...         3.0                 0                          0      0   \n",
       "3  ...         3.0                 0                          0      1   \n",
       "4  ...         1.0                 0                          0      0   \n",
       "\n",
       "   Laptop  Network Server Other Portable Electronic Device  Paper/Films  Yes  \\\n",
       "0       1               0                                0            0    1   \n",
       "1       0               0                                0            0    0   \n",
       "2       0               0                                0            1    1   \n",
       "3       0               0                                0            0    0   \n",
       "4       0               0                                0            1    0   \n",
       "\n",
       "   No  \n",
       "0   0  \n",
       "1   1  \n",
       "2   0  \n",
       "3   1  \n",
       "4   1  \n",
       "\n",
       "[5 rows x 33 columns]"
      ]
     },
     "execution_count": 3,
     "metadata": {},
     "output_type": "execute_result"
    }
   ],
   "source": [
    "breaches.head()"
   ]
  },
  {
   "cell_type": "code",
   "execution_count": 4,
   "metadata": {},
   "outputs": [
    {
     "data": {
      "text/plain": [
       "1.0    256\n",
       "0.0    256\n",
       "Name: Hacking/IT Incident, dtype: int64"
      ]
     },
     "execution_count": 4,
     "metadata": {},
     "output_type": "execute_result"
    }
   ],
   "source": [
    "# Double check that data is balanced\n",
    "breaches['Hacking/IT Incident'].value_counts()"
   ]
  },
  {
   "cell_type": "markdown",
   "metadata": {},
   "source": [
    "# I. Naive Bayes Classifer Model"
   ]
  },
  {
   "cell_type": "markdown",
   "metadata": {},
   "source": [
    "Apply naive bayes model, to classfication problem of predicting Hacking/IT Incident breach types. (Note: GaussianNB implements the Gaussian Naive Bayes algorithm for classification. The likelihood of the features is assumed to be Gaussian).see link: https://scikit-learn.org/stable/modules/naive_bayes.html\n",
    "\n",
    "Predictor variables are separated into binary categories.\n",
    "\n",
    "Data is balanced, selecting 512 observations, in order to accurately predict as we only have 256 values for hacking/it incident breach types, so we select only 256 for other breach types as well.\n",
    "\n",
    "Select predictor variables: Individuals Affected, Breach Submission Date (separated), unique breach types, unique location of breach methods, Business Associate Present.\n",
    "\n",
    "Select target variable: Hacking/IT Incident breach type, other breach types."
   ]
  },
  {
   "cell_type": "markdown",
   "metadata": {},
   "source": [
    "# Feature Selection"
   ]
  },
  {
   "cell_type": "code",
   "execution_count": 5,
   "metadata": {},
   "outputs": [],
   "source": [
    "# Implement Naive Bayes Classifier Machine Learning Model\n",
    "# to predict type of breach\n",
    "\n",
    "# Split dataset into features and target variable\n",
    "\n",
    "# Features\n",
    "X = breaches[['Individuals Affected', \n",
    "            'Year', # Date features\n",
    "            'Month', \n",
    "            'Day',\n",
    "            'quarter',\n",
    "            'dayofweek',\n",
    "            'is_weekend',\n",
    "            'weekofyear',\n",
    "            'Desktop Computer', # Location of breach methods\n",
    "            'Electronic Medical Record', \n",
    "            'Email', \n",
    "            'Laptop',\n",
    "            'Network Server', \n",
    "            'Other Portable Electronic Device', \n",
    "            'Paper/Films',\n",
    "            'Yes', # Business Associate presence\n",
    "            'No']] \n",
    "\n",
    "# Target variable\n",
    "y = breaches['Hacking/IT Incident'] "
   ]
  },
  {
   "cell_type": "code",
   "execution_count": 6,
   "metadata": {},
   "outputs": [
    {
     "data": {
      "text/plain": [
       "(512, 17)"
      ]
     },
     "execution_count": 6,
     "metadata": {},
     "output_type": "execute_result"
    }
   ],
   "source": [
    "X.shape "
   ]
  },
  {
   "cell_type": "code",
   "execution_count": 7,
   "metadata": {},
   "outputs": [
    {
     "data": {
      "text/plain": [
       "(512,)"
      ]
     },
     "execution_count": 7,
     "metadata": {},
     "output_type": "execute_result"
    }
   ],
   "source": [
    "y.shape "
   ]
  },
  {
   "cell_type": "code",
   "execution_count": 8,
   "metadata": {},
   "outputs": [],
   "source": [
    "# load libraries\n",
    "import numpy as np  \n",
    "from sklearn import metrics\n",
    "from sklearn.metrics import confusion_matrix \n",
    "from sklearn.model_selection import train_test_split\n",
    "from sklearn.naive_bayes import GaussianNB\n",
    "from sklearn.metrics import accuracy_score, recall_score, precision_score \n",
    "from sklearn.metrics import classification_report \n",
    "\n",
    "# Create a Gaussian Classifier\n",
    "NB = GaussianNB() # parameters\n",
    "\n",
    "#  Split dataset into training set and test set\n",
    "X_train, X_test, y_train, y_test = train_test_split(X, y, test_size=0.2, random_state = 42)\n",
    "\n",
    "# Train classifer\n",
    "NB.fit(X_train, y_train) \n",
    "\n",
    "# Predict the response for test dataset\n",
    "y_pred = NB.predict(X_test) "
   ]
  },
  {
   "cell_type": "markdown",
   "metadata": {},
   "source": [
    "# Evaluating Model"
   ]
  },
  {
   "cell_type": "markdown",
   "metadata": {},
   "source": [
    "Check accuracy using actual and predicted values."
   ]
  },
  {
   "cell_type": "code",
   "execution_count": 9,
   "metadata": {},
   "outputs": [
    {
     "name": "stdout",
     "output_type": "stream",
     "text": [
      "Accuracy for train set: 0.8557457212713936\n",
      "Accuracy test set: 0.7475728155339806\n",
      "Recall, test set: 0.95\n",
      "Precision, test set: 0.64\n"
     ]
    }
   ],
   "source": [
    "# Model Accuracy, how often is the classifier correct?\n",
    "print(\"Accuracy for train set:\", NB.score(X_train, y_train)) \n",
    "print(\"Accuracy test set:\",NB.score(X_test, y_test))\n",
    "print('Recall, test set: %0.2f' % recall_score(y_test, y_pred))\n",
    "print('Precision, test set: %0.2f' % precision_score(y_test, y_pred))"
   ]
  },
  {
   "cell_type": "code",
   "execution_count": 13,
   "metadata": {},
   "outputs": [
    {
     "name": "stdout",
     "output_type": "stream",
     "text": [
      "              precision    recall  f1-score   support\n",
      "\n",
      "         0.0       0.95      0.59      0.73        59\n",
      "         1.0       0.64      0.95      0.76        44\n",
      "\n",
      "    accuracy                           0.75       103\n",
      "   macro avg       0.79      0.77      0.75       103\n",
      "weighted avg       0.81      0.75      0.74       103\n",
      "\n"
     ]
    }
   ],
   "source": [
    "# Classification Report using \n",
    "from sklearn.metrics import classification_report\n",
    "report = classification_report(y_test, y_pred)\n",
    "print(report)"
   ]
  }
 ],
 "metadata": {
  "kernelspec": {
   "display_name": "Python 3",
   "language": "python",
   "name": "python3"
  },
  "language_info": {
   "codemirror_mode": {
    "name": "ipython",
    "version": 3
   },
   "file_extension": ".py",
   "mimetype": "text/x-python",
   "name": "python",
   "nbconvert_exporter": "python",
   "pygments_lexer": "ipython3",
   "version": "3.7.3"
  }
 },
 "nbformat": 4,
 "nbformat_minor": 2
}
